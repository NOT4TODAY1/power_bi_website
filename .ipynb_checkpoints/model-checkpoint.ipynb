{
 "cells": [
  {
   "cell_type": "code",
   "execution_count": 1,
   "id": "231746a9-83d9-40ad-aca9-fbd360557d57",
   "metadata": {},
   "outputs": [
    {
     "name": "stdout",
     "output_type": "stream",
     "text": [
      "Mean Squared Error (MSE): 0.01677846712945972\n",
      "R² Score: 0.9922304203903664\n",
      "Athlete: {'age': 28, 'weight': 70, 'height': 1.75, 'gender': 'MALE', 'division': 'Individual', 'avg_points': 220} --> Predicted top 10 finishes: 9\n",
      "Athlete: {'age': 32, 'weight': 60, 'height': 1.65, 'gender': 'FEMALE', 'division': 'Individual', 'avg_points': 210} --> Predicted top 10 finishes: 11\n",
      "Athlete: {'age': 40, 'weight': 80, 'height': 1.8, 'gender': 'MALE', 'division': 'Team', 'avg_points': 180} --> Predicted top 10 finishes: 10\n",
      "Athlete: {'age': 25, 'weight': 55, 'height': 1.6, 'gender': 'FEMALE', 'division': 'Team', 'avg_points': 190} --> Predicted top 10 finishes: 10\n"
     ]
    }
   ],
   "source": [
    "import pandas as pd\n",
    "from sklearn.model_selection import train_test_split\n",
    "from sklearn.preprocessing import OneHotEncoder, StandardScaler\n",
    "from sklearn.compose import ColumnTransformer\n",
    "from sklearn.pipeline import Pipeline\n",
    "from sklearn.ensemble import RandomForestRegressor\n",
    "from sklearn.metrics import mean_squared_error, r2_score\n",
    "\n",
    "# -----------------------------\n",
    "# 1️⃣ Load cleaned data\n",
    "# -----------------------------\n",
    "df_scores = pd.read_excel(r\"C:\\Users\\LOQ\\Downloads\\projet_power_pi\\scores_2019_cleaned_dataset.xlsx\")\n",
    "df_athletes = pd.concat([\n",
    "    pd.read_excel(r\"C:\\Users\\LOQ\\Downloads\\projet_power_pi\\athletes_women_2019_cleaned (1).xlsx\"),\n",
    "    pd.read_excel(r\"C:\\Users\\LOQ\\Downloads\\projet_power_pi\\athletes_men_2019_cleaned (1).xlsx\")\n",
    "])\n",
    "\n",
    "# -----------------------------\n",
    "# 2️⃣ Merge datasets\n",
    "# -----------------------------\n",
    "df = df_scores.merge(df_athletes, on='competitorid', how='left')\n",
    "\n",
    "# -----------------------------\n",
    "# 3️⃣ Compute past performance metrics\n",
    "# -----------------------------\n",
    "past_perf = df.groupby('competitorid').agg(\n",
    "    avg_rank=('rank', 'mean'),\n",
    "    avg_points=('points', 'mean'),\n",
    "    top10_finishes=('rank', lambda x: (x <= 10).sum())\n",
    ").reset_index()\n",
    "\n",
    "df = df.merge(past_perf, on='competitorid', how='left')\n",
    "\n",
    "# -----------------------------\n",
    "# 4️⃣ Select features & target\n",
    "# -----------------------------\n",
    "# 🎯 Target: predict points (performance per workout)\n",
    "target = 'points'\n",
    "\n",
    "# Features describing athlete characteristics and experience\n",
    "features = ['age', 'weight', 'height', 'gender', 'division', 'avg_rank', 'avg_points']\n",
    "\n",
    "df = df.dropna(subset=features + [target])  # Remove rows with missing values\n",
    "\n",
    "X = df[features]\n",
    "y = df[target]\n",
    "\n",
    "# -----------------------------\n",
    "# 5️⃣ Preprocessing\n",
    "# -----------------------------\n",
    "numeric_features = ['age', 'weight', 'height', 'avg_rank', 'avg_points']\n",
    "categorical_features = ['gender', 'division']\n",
    "\n",
    "preprocessor = ColumnTransformer(\n",
    "    transformers=[\n",
    "        ('num', StandardScaler(), numeric_features),\n",
    "        ('cat', OneHotEncoder(handle_unknown='ignore'), categorical_features)\n",
    "    ]\n",
    ")\n",
    "\n",
    "# -----------------------------\n",
    "# 6️⃣ Train-test split\n",
    "# -----------------------------\n",
    "X_train, X_test, y_train, y_test = train_test_split(X, y, test_size=0.2, random_state=42)\n",
    "\n",
    "# -----------------------------\n",
    "# 7️⃣ Random Forest Pipeline\n",
    "# -----------------------------\n",
    "model = Pipeline([\n",
    "    ('preprocessor', preprocessor),\n",
    "    ('regressor', RandomForestRegressor(\n",
    "        n_estimators=200,\n",
    "        random_state=42,\n",
    "        max_depth=12\n",
    "    ))\n",
    "])\n",
    "\n",
    "# -----------------------------\n",
    "# 8️⃣ Train model\n",
    "# -----------------------------\n",
    "model.fit(X_train, y_train)\n",
    "\n",
    "# -----------------------------\n",
    "# 9️⃣ Evaluate model\n",
    "# -----------------------------\n",
    "y_pred = model.predict(X_test)\n",
    "mse = mean_squared_error(y_test, y_pred)\n",
    "r2 = r2_score(y_test, y_pred)\n",
    "\n",
    "print(f\"Mean Squared Error (MSE): {mse:.2f}\")\n",
    "print(f\"R² Score: {r2:.4f}\")\n",
    "\n",
    "# -----------------------------\n",
    "# 🔟 Predict new workout performance\n",
    "# -----------------------------\n",
    "new_athletes = pd.DataFrame([\n",
    "    {'age': 28, 'weight': 70, 'height': 1.75, 'gender': 'MALE', 'division': 'Individual', 'avg_rank': 15, 'avg_points': 220},\n",
    "    {'age': 32, 'weight': 60, 'height': 1.65, 'gender': 'FEMALE', 'division': 'Individual', 'avg_rank': 8, 'avg_points': 250},\n",
    "    {'age': 40, 'weight': 80, 'height': 1.80, 'gender': 'MALE', 'division': 'Team', 'avg_rank': 30, 'avg_points': 180},\n",
    "    {'age': 25, 'weight': 55, 'height': 1.60, 'gender': 'FEMALE', 'division': 'Team', 'avg_rank': 20, 'avg_points': 190}\n",
    "])\n",
    "\n",
    "predicted_points = model.predict(new_athletes)\n",
    "\n",
    "for athlete, pred in zip(new_athletes.to_dict(orient='records'), predicted_points):\n",
    "    print(f\"Athlete: {athlete} --> Predicted workout points: {pred:.2f}\")\n"
   ]
  },
  {
   "cell_type": "code",
   "execution_count": 2,
   "id": "1859fa84-b6c2-4f73-83c6-fc1cdbc2318c",
   "metadata": {},
   "outputs": [
    {
     "name": "stdout",
     "output_type": "stream",
     "text": [
      "Model saved!\n"
     ]
    }
   ],
   "source": [
    "import joblib\n",
    "\n",
    "# After training your pipeline model\n",
    "joblib.dump(model, \"athlete_model.pkl\")\n",
    "print(\"Model saved!\")\n"
   ]
  },
  {
   "cell_type": "code",
   "execution_count": 3,
   "id": "be42d9c8-ea9b-417a-820c-a2c423e57c36",
   "metadata": {},
   "outputs": [
    {
     "name": "stdout",
     "output_type": "stream",
     "text": [
      "Requirement already satisfied: flask in c:\\users\\loq\\desktop\\summer internship\\venv310\\lib\\site-packages (3.1.1)\n",
      "Requirement already satisfied: blinker>=1.9.0 in c:\\users\\loq\\desktop\\summer internship\\venv310\\lib\\site-packages (from flask) (1.9.0)\n",
      "Requirement already satisfied: click>=8.1.3 in c:\\users\\loq\\desktop\\summer internship\\venv310\\lib\\site-packages (from flask) (8.2.1)\n",
      "Requirement already satisfied: itsdangerous>=2.2.0 in c:\\users\\loq\\desktop\\summer internship\\venv310\\lib\\site-packages (from flask) (2.2.0)\n",
      "Requirement already satisfied: jinja2>=3.1.2 in c:\\users\\loq\\desktop\\summer internship\\venv310\\lib\\site-packages (from flask) (3.1.6)\n",
      "Requirement already satisfied: markupsafe>=2.1.1 in c:\\users\\loq\\desktop\\summer internship\\venv310\\lib\\site-packages (from flask) (3.0.2)\n",
      "Requirement already satisfied: werkzeug>=3.1.0 in c:\\users\\loq\\desktop\\summer internship\\venv310\\lib\\site-packages (from flask) (3.1.3)\n",
      "Requirement already satisfied: colorama in c:\\users\\loq\\desktop\\summer internship\\venv310\\lib\\site-packages (from click>=8.1.3->flask) (0.4.6)\n",
      "Note: you may need to restart the kernel to use updated packages.\n"
     ]
    },
    {
     "name": "stderr",
     "output_type": "stream",
     "text": [
      "\n",
      "[notice] A new release of pip is available: 25.1.1 -> 25.2\n",
      "[notice] To update, run: C:\\Users\\LOQ\\Desktop\\Summer Internship\\venv310\\Scripts\\python.exe -m pip install --upgrade pip\n"
     ]
    }
   ],
   "source": [
    "pip install flask\n"
   ]
  },
  {
   "cell_type": "code",
   "execution_count": null,
   "id": "34da896f-2988-42fa-9bc3-3fab423b5040",
   "metadata": {},
   "outputs": [],
   "source": []
  }
 ],
 "metadata": {
  "kernelspec": {
   "display_name": "Python 3.10 (venv310)",
   "language": "python",
   "name": "venv310"
  },
  "language_info": {
   "codemirror_mode": {
    "name": "ipython",
    "version": 3
   },
   "file_extension": ".py",
   "mimetype": "text/x-python",
   "name": "python",
   "nbconvert_exporter": "python",
   "pygments_lexer": "ipython3",
   "version": "3.10.0"
  }
 },
 "nbformat": 4,
 "nbformat_minor": 5
}
